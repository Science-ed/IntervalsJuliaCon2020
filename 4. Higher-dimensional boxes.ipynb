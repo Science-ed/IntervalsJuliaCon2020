{
 "cells": [
  {
   "cell_type": "markdown",
   "metadata": {},
   "source": [
    "# 4. Higher-dimensional boxes"
   ]
  },
  {
   "cell_type": "code",
   "execution_count": 2,
   "metadata": {},
   "outputs": [],
   "source": [
    "using IntervalArithmetic"
   ]
  },
  {
   "cell_type": "markdown",
   "metadata": {},
   "source": [
    "We can approximate general sets in 1D using finite unions of intervals.\n",
    "The equivalent in higher dimensions is to use a union of **boxes**.\n",
    "\n",
    "An $n$-dimensional **(interval) box** is a Cartesian product $X_1 \\times X_2 \\times \\cdots \\times X_n$ of intervals $X_i$.\n"
   ]
  },
  {
   "cell_type": "markdown",
   "metadata": {},
   "source": [
    "Computationally, an $n$-dimensional box is just a vector of $n$ intervals. For performance we need to use fixed-size arrays from the `StaticArrays.jl` package. In `IntervalArithmetic.jl` these are wrapped into the `IntervalBox` type.\n",
    "\n",
    "We can construct an `IntervalBox` in `IntervalArithmetic.jl` in a couple of ways:"
   ]
  },
  {
   "cell_type": "code",
   "execution_count": 3,
   "metadata": {},
   "outputs": [
    {
     "data": {
      "text/plain": [
       "[1, 2] × [3, 4]"
      ]
     },
     "execution_count": 3,
     "metadata": {},
     "output_type": "execute_result"
    }
   ],
   "source": [
    "IntervalBox(1..2, 3..4)"
   ]
  },
  {
   "cell_type": "code",
   "execution_count": 4,
   "metadata": {},
   "outputs": [
    {
     "data": {
      "text/plain": [
       "[1, 2] × [3, 4]"
      ]
     },
     "execution_count": 4,
     "metadata": {},
     "output_type": "execute_result"
    }
   ],
   "source": [
    "(1..2) × (3..4)   # \\times<TAB>"
   ]
  },
  {
   "cell_type": "code",
   "execution_count": 7,
   "metadata": {},
   "outputs": [
    {
     "data": {
      "text/plain": [
       "[1, 2] × [1, 2] × [1, 2] × [1, 2]"
      ]
     },
     "execution_count": 7,
     "metadata": {},
     "output_type": "execute_result"
    }
   ],
   "source": [
    "X = IntervalBox(1..2, 4)  # second argument is the number of dimensions"
   ]
  },
  {
   "cell_type": "code",
   "execution_count": 8,
   "metadata": {},
   "outputs": [
    {
     "data": {
      "text/plain": [
       "IntervalBox{4,Float64}"
      ]
     },
     "execution_count": 8,
     "metadata": {},
     "output_type": "execute_result"
    }
   ],
   "source": [
    "typeof(X)"
   ]
  },
  {
   "cell_type": "markdown",
   "metadata": {},
   "source": [
    "## Multidimensional functions"
   ]
  },
  {
   "cell_type": "markdown",
   "metadata": {},
   "source": [
    "Evaluating a multidimensional scalar-valued function over a box is as simple as "
   ]
  },
  {
   "cell_type": "code",
   "execution_count": 9,
   "metadata": {},
   "outputs": [
    {
     "data": {
      "text/plain": [
       "f (generic function with 1 method)"
      ]
     },
     "execution_count": 9,
     "metadata": {},
     "output_type": "execute_result"
    }
   ],
   "source": [
    "f( (x, y) ) = x^2 + y"
   ]
  },
  {
   "cell_type": "code",
   "execution_count": 10,
   "metadata": {},
   "outputs": [
    {
     "data": {
      "text/plain": [
       "[-1, 1] × [-2, 2]"
      ]
     },
     "execution_count": 10,
     "metadata": {},
     "output_type": "execute_result"
    }
   ],
   "source": [
    "X = (-1..1) × (-2..2)"
   ]
  },
  {
   "cell_type": "code",
   "execution_count": 11,
   "metadata": {},
   "outputs": [
    {
     "data": {
      "text/plain": [
       "[-2, 3]"
      ]
     },
     "execution_count": 11,
     "metadata": {},
     "output_type": "execute_result"
    }
   ],
   "source": [
    "f(X)"
   ]
  },
  {
   "cell_type": "markdown",
   "metadata": {},
   "source": [
    "If the function is vector-valued, for performance reasons it is advisable to return an `SVector` from the `StaticArrays.jl` package:"
   ]
  },
  {
   "cell_type": "code",
   "execution_count": 20,
   "metadata": {},
   "outputs": [],
   "source": [
    "using StaticArrays"
   ]
  },
  {
   "cell_type": "code",
   "execution_count": 21,
   "metadata": {},
   "outputs": [
    {
     "data": {
      "text/plain": [
       "g (generic function with 1 method)"
      ]
     },
     "execution_count": 21,
     "metadata": {},
     "output_type": "execute_result"
    }
   ],
   "source": [
    "g( (x, y) ) = SVector(x^2 + y, x - y)"
   ]
  },
  {
   "cell_type": "code",
   "execution_count": 22,
   "metadata": {},
   "outputs": [
    {
     "data": {
      "text/plain": [
       "2-element SArray{Tuple{2},Interval{Float64},1,2} with indices SOneTo(2):\n",
       " [-2, 3]\n",
       " [-3, 3]"
      ]
     },
     "execution_count": 22,
     "metadata": {},
     "output_type": "execute_result"
    }
   ],
   "source": [
    "g(X)"
   ]
  },
  {
   "cell_type": "markdown",
   "metadata": {},
   "source": [
    "An alternative is to return an `IntervalBox`, but this makes the function less generic, for example if you wish to mix evaluating the same function at floating-point vectors and `IntervalBox`es."
   ]
  },
  {
   "cell_type": "markdown",
   "metadata": {},
   "source": [
    "## Plotting `IntervalBox`es"
   ]
  },
  {
   "cell_type": "markdown",
   "metadata": {},
   "source": [
    "As we mentioned previously, using the `Plots.jl` package we can plot `IntervalBox`es:"
   ]
  },
  {
   "cell_type": "code",
   "execution_count": 24,
   "metadata": {},
   "outputs": [
    {
     "data": {
      "text/plain": [
       "[1, 2] × [3, 4]"
      ]
     },
     "execution_count": 24,
     "metadata": {},
     "output_type": "execute_result"
    }
   ],
   "source": [
    "X = (1..2) × (3..4)"
   ]
  },
  {
   "cell_type": "code",
   "execution_count": 25,
   "metadata": {},
   "outputs": [],
   "source": [
    "using Plots"
   ]
  },
  {
   "cell_type": "code",
   "execution_count": 38,
   "metadata": {},
   "outputs": [
    {
     "data": {
      "image/svg+xml": [
       "<?xml version=\"1.0\" encoding=\"utf-8\"?>\n",
       "<svg xmlns=\"http://www.w3.org/2000/svg\" xmlns:xlink=\"http://www.w3.org/1999/xlink\" width=\"600\" height=\"400\" viewBox=\"0 0 2400 1600\">\n",
       "<defs>\n",
       "  <clipPath id=\"clip350\">\n",
       "    <rect x=\"0\" y=\"0\" width=\"2400\" height=\"1600\"/>\n",
       "  </clipPath>\n",
       "</defs>\n",
       "<path clip-path=\"url(#clip350)\" d=\"\n",
       "M0 1600 L2400 1600 L2400 0 L0 0  Z\n",
       "  \" fill=\"#ffffff\" fill-rule=\"evenodd\" fill-opacity=\"1\"/>\n",
       "<defs>\n",
       "  <clipPath id=\"clip351\">\n",
       "    <rect x=\"480\" y=\"0\" width=\"1681\" height=\"1600\"/>\n",
       "  </clipPath>\n",
       "</defs>\n",
       "<path clip-path=\"url(#clip350)\" d=\"\n",
       "M512.865 1486.45 L1952.07 1486.45 L1952.07 47.2441 L512.865 47.2441  Z\n",
       "  \" fill=\"#ffffff\" fill-rule=\"evenodd\" fill-opacity=\"1\"/>\n",
       "<defs>\n",
       "  <clipPath id=\"clip352\">\n",
       "    <rect x=\"512\" y=\"47\" width=\"1440\" height=\"1440\"/>\n",
       "  </clipPath>\n",
       "</defs>\n",
       "<polyline clip-path=\"url(#clip352)\" style=\"stroke:#000000; stroke-width:2; stroke-opacity:0.1; fill:none\" points=\"\n",
       "  512.865,1486.45 512.865,47.2441 \n",
       "  \"/>\n",
       "<polyline clip-path=\"url(#clip352)\" style=\"stroke:#000000; stroke-width:2; stroke-opacity:0.1; fill:none\" points=\"\n",
       "  800.705,1486.45 800.705,47.2441 \n",
       "  \"/>\n",
       "<polyline clip-path=\"url(#clip352)\" style=\"stroke:#000000; stroke-width:2; stroke-opacity:0.1; fill:none\" points=\"\n",
       "  1088.55,1486.45 1088.55,47.2441 \n",
       "  \"/>\n",
       "<polyline clip-path=\"url(#clip352)\" style=\"stroke:#000000; stroke-width:2; stroke-opacity:0.1; fill:none\" points=\"\n",
       "  1376.39,1486.45 1376.39,47.2441 \n",
       "  \"/>\n",
       "<polyline clip-path=\"url(#clip352)\" style=\"stroke:#000000; stroke-width:2; stroke-opacity:0.1; fill:none\" points=\"\n",
       "  1664.23,1486.45 1664.23,47.2441 \n",
       "  \"/>\n",
       "<polyline clip-path=\"url(#clip352)\" style=\"stroke:#000000; stroke-width:2; stroke-opacity:0.1; fill:none\" points=\"\n",
       "  1952.07,1486.45 1952.07,47.2441 \n",
       "  \"/>\n",
       "<polyline clip-path=\"url(#clip352)\" style=\"stroke:#000000; stroke-width:2; stroke-opacity:0.1; fill:none\" points=\"\n",
       "  512.865,1486.45 1952.07,1486.45 \n",
       "  \"/>\n",
       "<polyline clip-path=\"url(#clip352)\" style=\"stroke:#000000; stroke-width:2; stroke-opacity:0.1; fill:none\" points=\"\n",
       "  512.865,1198.61 1952.07,1198.61 \n",
       "  \"/>\n",
       "<polyline clip-path=\"url(#clip352)\" style=\"stroke:#000000; stroke-width:2; stroke-opacity:0.1; fill:none\" points=\"\n",
       "  512.865,910.766 1952.07,910.766 \n",
       "  \"/>\n",
       "<polyline clip-path=\"url(#clip352)\" style=\"stroke:#000000; stroke-width:2; stroke-opacity:0.1; fill:none\" points=\"\n",
       "  512.865,622.926 1952.07,622.926 \n",
       "  \"/>\n",
       "<polyline clip-path=\"url(#clip352)\" style=\"stroke:#000000; stroke-width:2; stroke-opacity:0.1; fill:none\" points=\"\n",
       "  512.865,335.085 1952.07,335.085 \n",
       "  \"/>\n",
       "<polyline clip-path=\"url(#clip352)\" style=\"stroke:#000000; stroke-width:2; stroke-opacity:0.1; fill:none\" points=\"\n",
       "  512.865,47.2441 1952.07,47.2441 \n",
       "  \"/>\n",
       "<polyline clip-path=\"url(#clip350)\" style=\"stroke:#000000; stroke-width:4; stroke-opacity:1; fill:none\" points=\"\n",
       "  512.865,1486.45 1952.07,1486.45 \n",
       "  \"/>\n",
       "<polyline clip-path=\"url(#clip350)\" style=\"stroke:#000000; stroke-width:4; stroke-opacity:1; fill:none\" points=\"\n",
       "  512.865,1486.45 512.865,47.2441 \n",
       "  \"/>\n",
       "<polyline clip-path=\"url(#clip350)\" style=\"stroke:#000000; stroke-width:4; stroke-opacity:1; fill:none\" points=\"\n",
       "  512.865,1486.45 512.865,1469.18 \n",
       "  \"/>\n",
       "<polyline clip-path=\"url(#clip350)\" style=\"stroke:#000000; stroke-width:4; stroke-opacity:1; fill:none\" points=\"\n",
       "  800.705,1486.45 800.705,1469.18 \n",
       "  \"/>\n",
       "<polyline clip-path=\"url(#clip350)\" style=\"stroke:#000000; stroke-width:4; stroke-opacity:1; fill:none\" points=\"\n",
       "  1088.55,1486.45 1088.55,1469.18 \n",
       "  \"/>\n",
       "<polyline clip-path=\"url(#clip350)\" style=\"stroke:#000000; stroke-width:4; stroke-opacity:1; fill:none\" points=\"\n",
       "  1376.39,1486.45 1376.39,1469.18 \n",
       "  \"/>\n",
       "<polyline clip-path=\"url(#clip350)\" style=\"stroke:#000000; stroke-width:4; stroke-opacity:1; fill:none\" points=\"\n",
       "  1664.23,1486.45 1664.23,1469.18 \n",
       "  \"/>\n",
       "<polyline clip-path=\"url(#clip350)\" style=\"stroke:#000000; stroke-width:4; stroke-opacity:1; fill:none\" points=\"\n",
       "  1952.07,1486.45 1952.07,1469.18 \n",
       "  \"/>\n",
       "<polyline clip-path=\"url(#clip350)\" style=\"stroke:#000000; stroke-width:4; stroke-opacity:1; fill:none\" points=\"\n",
       "  512.865,1486.45 530.135,1486.45 \n",
       "  \"/>\n",
       "<polyline clip-path=\"url(#clip350)\" style=\"stroke:#000000; stroke-width:4; stroke-opacity:1; fill:none\" points=\"\n",
       "  512.865,1198.61 530.135,1198.61 \n",
       "  \"/>\n",
       "<polyline clip-path=\"url(#clip350)\" style=\"stroke:#000000; stroke-width:4; stroke-opacity:1; fill:none\" points=\"\n",
       "  512.865,910.766 530.135,910.766 \n",
       "  \"/>\n",
       "<polyline clip-path=\"url(#clip350)\" style=\"stroke:#000000; stroke-width:4; stroke-opacity:1; fill:none\" points=\"\n",
       "  512.865,622.926 530.135,622.926 \n",
       "  \"/>\n",
       "<polyline clip-path=\"url(#clip350)\" style=\"stroke:#000000; stroke-width:4; stroke-opacity:1; fill:none\" points=\"\n",
       "  512.865,335.085 530.135,335.085 \n",
       "  \"/>\n",
       "<polyline clip-path=\"url(#clip350)\" style=\"stroke:#000000; stroke-width:4; stroke-opacity:1; fill:none\" points=\"\n",
       "  512.865,47.2441 530.135,47.2441 \n",
       "  \"/>\n",
       "<path clip-path=\"url(#clip350)\" d=\"M 0 0 M512.865 1508.44 Q509.254 1508.44 507.425 1512 Q505.619 1515.55 505.619 1522.67 Q505.619 1529.78 507.425 1533.35 Q509.254 1536.89 512.865 1536.89 Q516.499 1536.89 518.304 1533.35 Q520.133 1529.78 520.133 1522.67 Q520.133 1515.55 518.304 1512 Q516.499 1508.44 512.865 1508.44 M512.865 1504.73 Q518.675 1504.73 521.73 1509.34 Q524.809 1513.92 524.809 1522.67 Q524.809 1531.4 521.73 1536.01 Q518.675 1540.59 512.865 1540.59 Q507.054 1540.59 503.976 1536.01 Q500.92 1531.4 500.92 1522.67 Q500.92 1513.92 503.976 1509.34 Q507.054 1504.73 512.865 1504.73 Z\" fill=\"#000000\" fill-rule=\"evenodd\" fill-opacity=\"1\" /><path clip-path=\"url(#clip350)\" d=\"M 0 0 M791.087 1535.98 L798.726 1535.98 L798.726 1509.62 L790.416 1511.29 L790.416 1507.03 L798.68 1505.36 L803.356 1505.36 L803.356 1535.98 L810.995 1535.98 L810.995 1539.92 L791.087 1539.92 L791.087 1535.98 Z\" fill=\"#000000\" fill-rule=\"evenodd\" fill-opacity=\"1\" /><path clip-path=\"url(#clip350)\" d=\"M 0 0 M1083.2 1535.98 L1099.52 1535.98 L1099.52 1539.92 L1077.57 1539.92 L1077.57 1535.98 Q1080.24 1533.23 1084.82 1528.6 Q1089.43 1523.95 1090.61 1522.61 Q1092.85 1520.08 1093.73 1518.35 Q1094.63 1516.59 1094.63 1514.9 Q1094.63 1512.14 1092.69 1510.41 Q1090.77 1508.67 1087.67 1508.67 Q1085.47 1508.67 1083.01 1509.43 Q1080.58 1510.2 1077.81 1511.75 L1077.81 1507.03 Q1080.63 1505.89 1083.08 1505.31 Q1085.54 1504.73 1087.57 1504.73 Q1092.94 1504.73 1096.14 1507.42 Q1099.33 1510.11 1099.33 1514.6 Q1099.33 1516.73 1098.52 1518.65 Q1097.74 1520.54 1095.63 1523.14 Q1095.05 1523.81 1091.95 1527.03 Q1088.85 1530.22 1083.2 1535.98 Z\" fill=\"#000000\" fill-rule=\"evenodd\" fill-opacity=\"1\" /><path clip-path=\"url(#clip350)\" d=\"M 0 0 M1380.63 1521.29 Q1383.99 1522 1385.87 1524.27 Q1387.76 1526.54 1387.76 1529.87 Q1387.76 1534.99 1384.25 1537.79 Q1380.73 1540.59 1374.25 1540.59 Q1372.07 1540.59 1369.76 1540.15 Q1367.46 1539.73 1365.01 1538.88 L1365.01 1534.36 Q1366.95 1535.5 1369.27 1536.08 Q1371.58 1536.66 1374.11 1536.66 Q1378.5 1536.66 1380.8 1534.92 Q1383.11 1533.18 1383.11 1529.87 Q1383.11 1526.82 1380.96 1525.11 Q1378.83 1523.37 1375.01 1523.37 L1370.98 1523.37 L1370.98 1519.53 L1375.19 1519.53 Q1378.64 1519.53 1380.47 1518.16 Q1382.3 1516.77 1382.3 1514.18 Q1382.3 1511.52 1380.4 1510.11 Q1378.53 1508.67 1375.01 1508.67 Q1373.09 1508.67 1370.89 1509.09 Q1368.69 1509.5 1366.05 1510.38 L1366.05 1506.22 Q1368.71 1505.48 1371.03 1505.11 Q1373.37 1504.73 1375.43 1504.73 Q1380.75 1504.73 1383.85 1507.17 Q1386.95 1509.57 1386.95 1513.69 Q1386.95 1516.56 1385.31 1518.55 Q1383.67 1520.52 1380.63 1521.29 Z\" fill=\"#000000\" fill-rule=\"evenodd\" fill-opacity=\"1\" /><path clip-path=\"url(#clip350)\" d=\"M 0 0 M1667.24 1509.43 L1655.43 1527.88 L1667.24 1527.88 L1667.24 1509.43 M1666.01 1505.36 L1671.89 1505.36 L1671.89 1527.88 L1676.82 1527.88 L1676.82 1531.77 L1671.89 1531.77 L1671.89 1539.92 L1667.24 1539.92 L1667.24 1531.77 L1651.64 1531.77 L1651.64 1527.26 L1666.01 1505.36 Z\" fill=\"#000000\" fill-rule=\"evenodd\" fill-opacity=\"1\" /><path clip-path=\"url(#clip350)\" d=\"M 0 0 M1942.35 1505.36 L1960.7 1505.36 L1960.7 1509.3 L1946.63 1509.3 L1946.63 1517.77 Q1947.65 1517.42 1948.67 1517.26 Q1949.68 1517.07 1950.7 1517.07 Q1956.49 1517.07 1959.87 1520.24 Q1963.25 1523.42 1963.25 1528.83 Q1963.25 1534.41 1959.78 1537.51 Q1956.3 1540.59 1949.99 1540.59 Q1947.81 1540.59 1945.54 1540.22 Q1943.3 1539.85 1940.89 1539.11 L1940.89 1534.41 Q1942.97 1535.54 1945.19 1536.1 Q1947.42 1536.66 1949.89 1536.66 Q1953.9 1536.66 1956.24 1534.55 Q1958.57 1532.44 1958.57 1528.83 Q1958.57 1525.22 1956.24 1523.11 Q1953.9 1521.01 1949.89 1521.01 Q1948.02 1521.01 1946.14 1521.42 Q1944.29 1521.84 1942.35 1522.72 L1942.35 1505.36 Z\" fill=\"#000000\" fill-rule=\"evenodd\" fill-opacity=\"1\" /><path clip-path=\"url(#clip350)\" d=\"M 0 0 M476.92 1472.25 Q473.309 1472.25 471.48 1475.81 Q469.675 1479.35 469.675 1486.48 Q469.675 1493.59 471.48 1497.15 Q473.309 1500.7 476.92 1500.7 Q480.555 1500.7 482.36 1497.15 Q484.189 1493.59 484.189 1486.48 Q484.189 1479.35 482.36 1475.81 Q480.555 1472.25 476.92 1472.25 M476.92 1468.54 Q482.73 1468.54 485.786 1473.15 Q488.865 1477.73 488.865 1486.48 Q488.865 1495.21 485.786 1499.82 Q482.73 1504.4 476.92 1504.4 Q471.11 1504.4 468.031 1499.82 Q464.976 1495.21 464.976 1486.48 Q464.976 1477.73 468.031 1473.15 Q471.11 1468.54 476.92 1468.54 Z\" fill=\"#000000\" fill-rule=\"evenodd\" fill-opacity=\"1\" /><path clip-path=\"url(#clip350)\" d=\"M 0 0 M468.957 1211.95 L476.596 1211.95 L476.596 1185.59 L468.286 1187.25 L468.286 1182.99 L476.55 1181.33 L481.226 1181.33 L481.226 1211.95 L488.865 1211.95 L488.865 1215.89 L468.957 1215.89 L468.957 1211.95 Z\" fill=\"#000000\" fill-rule=\"evenodd\" fill-opacity=\"1\" /><path clip-path=\"url(#clip350)\" d=\"M 0 0 M472.545 924.111 L488.865 924.111 L488.865 928.046 L466.92 928.046 L466.92 924.111 Q469.582 921.357 474.166 916.727 Q478.772 912.074 479.953 910.732 Q482.198 908.209 483.078 906.472 Q483.98 904.713 483.98 903.023 Q483.98 900.269 482.036 898.533 Q480.115 896.797 477.013 896.797 Q474.814 896.797 472.36 897.56 Q469.93 898.324 467.152 899.875 L467.152 895.153 Q469.976 894.019 472.43 893.44 Q474.883 892.861 476.92 892.861 Q482.291 892.861 485.485 895.547 Q488.679 898.232 488.679 902.722 Q488.679 904.852 487.869 906.773 Q487.082 908.671 484.976 911.264 Q484.397 911.935 481.295 915.153 Q478.193 918.347 472.545 924.111 Z\" fill=\"#000000\" fill-rule=\"evenodd\" fill-opacity=\"1\" /><path clip-path=\"url(#clip350)\" d=\"M 0 0 M481.735 621.571 Q485.092 622.289 486.967 624.558 Q488.865 626.826 488.865 630.159 Q488.865 635.275 485.346 638.076 Q481.828 640.877 475.346 640.877 Q473.17 640.877 470.855 640.437 Q468.564 640.02 466.11 639.164 L466.11 634.65 Q468.055 635.784 470.369 636.363 Q472.684 636.942 475.207 636.942 Q479.605 636.942 481.897 635.206 Q484.212 633.47 484.212 630.159 Q484.212 627.104 482.059 625.391 Q479.93 623.655 476.11 623.655 L472.082 623.655 L472.082 619.812 L476.295 619.812 Q479.744 619.812 481.573 618.446 Q483.402 617.058 483.402 614.465 Q483.402 611.803 481.504 610.391 Q479.629 608.956 476.11 608.956 Q474.189 608.956 471.99 609.372 Q469.791 609.789 467.152 610.669 L467.152 606.502 Q469.814 605.761 472.129 605.391 Q474.467 605.021 476.527 605.021 Q481.851 605.021 484.953 607.451 Q488.054 609.859 488.054 613.979 Q488.054 616.849 486.411 618.84 Q484.767 620.808 481.735 621.571 Z\" fill=\"#000000\" fill-rule=\"evenodd\" fill-opacity=\"1\" /><path clip-path=\"url(#clip350)\" d=\"M 0 0 M479.281 321.879 L467.476 340.328 L479.281 340.328 L479.281 321.879 M478.055 317.805 L483.934 317.805 L483.934 340.328 L488.865 340.328 L488.865 344.217 L483.934 344.217 L483.934 352.365 L479.281 352.365 L479.281 344.217 L463.68 344.217 L463.68 339.703 L478.055 317.805 Z\" fill=\"#000000\" fill-rule=\"evenodd\" fill-opacity=\"1\" /><path clip-path=\"url(#clip350)\" d=\"M 0 0 M467.962 29.9641 L486.318 29.9641 L486.318 33.8993 L472.244 33.8993 L472.244 42.3714 Q473.263 42.0242 474.281 41.8622 Q475.3 41.677 476.318 41.677 Q482.105 41.677 485.485 44.8483 Q488.865 48.0196 488.865 53.4362 Q488.865 59.0149 485.392 62.1167 Q481.92 65.1954 475.601 65.1954 Q473.425 65.1954 471.156 64.825 Q468.911 64.4547 466.504 63.7139 L466.504 59.0149 Q468.587 60.1491 470.809 60.7047 Q473.031 61.2602 475.508 61.2602 Q479.513 61.2602 481.851 59.1538 Q484.189 57.0473 484.189 53.4362 Q484.189 49.8251 481.851 47.7186 Q479.513 45.6122 475.508 45.6122 Q473.633 45.6122 471.758 46.0288 Q469.906 46.4455 467.962 47.3251 L467.962 29.9641 Z\" fill=\"#000000\" fill-rule=\"evenodd\" fill-opacity=\"1\" /><path clip-path=\"url(#clip352)\" d=\"\n",
       "M512.865 1486.45 L800.705 1486.45 L800.705 1198.61 L512.865 1198.61 L512.865 1486.45  Z\n",
       "  \" fill=\"#ff0000\" fill-rule=\"evenodd\" fill-opacity=\"0.3\"/>\n",
       "<polyline clip-path=\"url(#clip352)\" style=\"stroke:#000000; stroke-width:4; stroke-opacity:0.3; fill:none\" points=\"\n",
       "  512.865,1486.45 800.705,1486.45 800.705,1198.61 512.865,1198.61 512.865,1486.45 \n",
       "  \"/>\n",
       "<path clip-path=\"url(#clip350)\" d=\"\n",
       "M1589.05 251.724 L1880.07 251.724 L1880.07 130.764 L1589.05 130.764  Z\n",
       "  \" fill=\"#ffffff\" fill-rule=\"evenodd\" fill-opacity=\"1\"/>\n",
       "<polyline clip-path=\"url(#clip350)\" style=\"stroke:#000000; stroke-width:4; stroke-opacity:1; fill:none\" points=\"\n",
       "  1589.05,251.724 1880.07,251.724 1880.07,130.764 1589.05,130.764 1589.05,251.724 \n",
       "  \"/>\n",
       "<path clip-path=\"url(#clip350)\" d=\"\n",
       "M1613.05 215.436 L1757.05 215.436 L1757.05 167.052 L1613.05 167.052 L1613.05 215.436  Z\n",
       "  \" fill=\"#ff0000\" fill-rule=\"evenodd\" fill-opacity=\"0.3\"/>\n",
       "<polyline clip-path=\"url(#clip350)\" style=\"stroke:#000000; stroke-width:4; stroke-opacity:1; fill:none\" points=\"\n",
       "  1613.05,215.436 1757.05,215.436 1757.05,167.052 1613.05,167.052 1613.05,215.436 \n",
       "  \"/>\n",
       "<path clip-path=\"url(#clip350)\" d=\"M 0 0 M1794.89 210.931 Q1793.09 215.561 1791.37 216.973 Q1789.66 218.385 1786.79 218.385 L1783.39 218.385 L1783.39 214.82 L1785.89 214.82 Q1787.65 214.82 1788.62 213.987 Q1789.59 213.154 1790.77 210.052 L1791.54 208.107 L1781.05 182.598 L1785.56 182.598 L1793.67 202.876 L1801.77 182.598 L1806.28 182.598 L1794.89 210.931 Z\" fill=\"#000000\" fill-rule=\"evenodd\" fill-opacity=\"1\" /><path clip-path=\"url(#clip350)\" d=\"M 0 0 M1812.16 204.589 L1819.8 204.589 L1819.8 178.223 L1811.49 179.89 L1811.49 175.631 L1819.75 173.964 L1824.43 173.964 L1824.43 204.589 L1832.07 204.589 L1832.07 208.524 L1812.16 208.524 L1812.16 204.589 Z\" fill=\"#000000\" fill-rule=\"evenodd\" fill-opacity=\"1\" /></svg>\n"
      ]
     },
     "execution_count": 38,
     "metadata": {},
     "output_type": "execute_result"
    }
   ],
   "source": [
    "plot(X, alpha=0.3, c=:red, ratio=1, xlim=(0, 5), ylim=(0, 5))"
   ]
  },
  {
   "cell_type": "markdown",
   "metadata": {},
   "source": [
    "#### Exercise"
   ]
  },
  {
   "cell_type": "markdown",
   "metadata": {},
   "source": [
    "1. Draw (an over-approximation of) the image of the unit square under the Hénon map\n",
    "\n",
    "    $$(x, y) \\mapsto (1 - ax^2 + y, bx)$$\n",
    "\n",
    "    for $a = 1.4$ and $b = 0.3$\n",
    "\n",
    "    by using boxes."
   ]
  },
  {
   "cell_type": "code",
   "execution_count": null,
   "metadata": {},
   "outputs": [],
   "source": []
  },
  {
   "cell_type": "markdown",
   "metadata": {},
   "source": [
    "## Set inversion"
   ]
  },
  {
   "cell_type": "markdown",
   "metadata": {},
   "source": [
    "By using enough boxes of a small enough size we can approximate any given (finite) set.\n",
    "\n",
    "As an example, consider the problem of finding the set in the plane given by $S := \\{(x, y) \\in \\mathbb{R}^2: 1 \\le x^2 + y^2 \\le 2 \\}$.  This can be written as $f^{-1}([1, 2])$, with $f(x, y) := x^2 + y^2$, so corresponds to a **set inversion** problem."
   ]
  },
  {
   "cell_type": "markdown",
   "metadata": {},
   "source": [
    "Suppose we have an initial box"
   ]
  },
  {
   "cell_type": "code",
   "execution_count": 49,
   "metadata": {},
   "outputs": [
    {
     "data": {
      "text/plain": [
       "[-5, 5] × [-5, 5]"
      ]
     },
     "execution_count": 49,
     "metadata": {},
     "output_type": "execute_result"
    }
   ],
   "source": [
    "X = IntervalBox(-5..5, 2)"
   ]
  },
  {
   "cell_type": "markdown",
   "metadata": {},
   "source": [
    "We would like to find the subset of $X$ that definitely lies *inside* $S$ and a subset that definitely lies *outside* $S$. We will do so by splitting up $X$ into pieces. The simplest way to try to do this is by mincing each direction of $X$ again. (Soon we will see a more sophisticated method.)\n",
    "\n",
    "We will have to restrict ourselves to sets with a certain minimum size, so there will also be boxes that we cannot prove to be either inside or outside."
   ]
  },
  {
   "cell_type": "markdown",
   "metadata": {},
   "source": [
    "#### Exercise"
   ]
  },
  {
   "cell_type": "markdown",
   "metadata": {},
   "source": [
    "1. Write a function to do carry out set inversion. \n",
    "\n",
    "\n",
    "2. Apply it to the above set-inversion problem and visualize the result."
   ]
  },
  {
   "cell_type": "markdown",
   "metadata": {},
   "source": []
  }
 ],
 "metadata": {
  "kernelspec": {
   "display_name": "Julia 1.5.0-beta1",
   "language": "julia",
   "name": "julia-1.5"
  },
  "language_info": {
   "file_extension": ".jl",
   "mimetype": "application/julia",
   "name": "julia",
   "version": "1.5.0"
  }
 },
 "nbformat": 4,
 "nbformat_minor": 4
}
